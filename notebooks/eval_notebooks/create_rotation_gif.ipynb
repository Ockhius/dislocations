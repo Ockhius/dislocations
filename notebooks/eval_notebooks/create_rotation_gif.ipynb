{
 "cells": [
  {
   "cell_type": "code",
   "execution_count": 13,
   "metadata": {},
   "outputs": [],
   "source": [
    "from PIL import Image\n",
    "import imageio\n",
    "import numpy as np\n",
    "from PIL import GifImagePlugin\n",
    "\n",
    "def reconstruct_3d_dislocations(path):\n",
    "\n",
    "    reconstructed_images_disloc = []\n",
    "\n",
    "    for i in range(10, 20, 1):\n",
    "        reconstructed_images_disloc.append(np.array(Image.open(path+str(i)+'.png')))\n",
    "\n",
    "    for i in range(20, 10, -1):\n",
    "        reconstructed_images_disloc.append(np.array(Image.open(path+str(i)+'.png')))\n",
    "\n",
    "    for i in range(10, 0, -1):\n",
    "        reconstructed_images_disloc.append(np.array(Image.open(path+str(i)+'.png')))\n",
    "\n",
    "    for i in range(0, 10, 1):\n",
    "        reconstructed_images_disloc.append(np.array(Image.open(path+str(i)+'.png')))\n",
    "\n",
    "    return reconstructed_images_disloc\n",
    "\n",
    "path = 'dislocations_matching_disp_warp_var_gt_results/2019-12-02_TiAl_box3n15_zoom_7_5_Aligned_9_of_90007_LEFT.png/'\n",
    "\n",
    "reconstructed_images_disloc = reconstruct_3d_dislocations(path)\n",
    "imageio.mimsave('dislocations_matching_disp_warp_var_gt_results/2019-12-02_TiAl_box3n15_zoom_7_5_Aligned_9_of_90007_LEFT.png/2019-12-02_TiAl_box3n15_zoom_1_2_Aligned_9_of_90007_LEFT_gt.gif', reconstructed_images_disloc)\n"
   ]
  },
  {
   "cell_type": "code",
   "execution_count": null,
   "metadata": {},
   "outputs": [],
   "source": []
  }
 ],
 "metadata": {
  "kernelspec": {
   "display_name": "fast",
   "language": "python",
   "name": "fast"
  },
  "language_info": {
   "codemirror_mode": {
    "name": "ipython",
    "version": 3
   },
   "file_extension": ".py",
   "mimetype": "text/x-python",
   "name": "python",
   "nbconvert_exporter": "python",
   "pygments_lexer": "ipython3",
   "version": "3.7.4"
  },
  "pycharm": {
   "stem_cell": {
    "cell_type": "raw",
    "source": [],
    "metadata": {
     "collapsed": false
    }
   }
  }
 },
 "nbformat": 4,
 "nbformat_minor": 2
}