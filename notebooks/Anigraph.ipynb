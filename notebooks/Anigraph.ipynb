{
 "cells": [
  {
   "cell_type": "code",
   "execution_count": 4,
   "metadata": {},
   "outputs": [
    {
     "name": "stderr",
     "output_type": "stream",
     "text": [
      "100%|██████████| 61/61 [00:01<00:00, 35.05it/s]\n"
     ]
    }
   ],
   "source": [
    "from PIL import Image\n",
    "from IPython.display import Image as Img \n",
    "\n",
    "import sys\n",
    "import os \n",
    "from tqdm import tqdm\n",
    "\n",
    "%matplotlib inline\n",
    "import matplotlib.pyplot as plt\n",
    "\n",
    "left_images_path = '/home/dagnyt/EPFL/dislocations/logdir_results/_results/in_situ_10_deg/'\n",
    "right_images_path = '/home/dagnyt/EPFL/dislocations/logdir_results/_results/in_situ_-10_deg/'\n",
    "save_images_path =  '/home/dagnyt/EPFL/dislocations/logdir_results/_results/in_situ_-10_10_ang_deg/'\n",
    "\n",
    "if not os.path.exists(save_images_path):\n",
    "        os.makedirs(save_images_path)\n",
    "\n",
    "left_images = sorted(os.listdir(left_images_path))\n",
    "\n",
    "for img in tqdm(left_images):\n",
    "    \n",
    "    imLeft = Image.open(os.path.join(left_images_path, img))\n",
    "    imRight = Image.open(os.path.join(right_images_path, img))\n",
    "\n",
    "# Split the images into Red, Green, and Blue\n",
    "    lRed, lGreen, lBlue,_ = imLeft.split()\n",
    "    rRed, rGreen, rBlue,_ = imRight.split()\n",
    "\n",
    "    # The 3D image is the Red from the Right image\n",
    "    # And the Green and Blue from the Left one\n",
    "    im3D = Image.merge('RGB', [rRed, lGreen, lBlue])\n",
    "    \n",
    "    im3D.save(os.path.join(save_images_path, img))\n"
   ]
  },
  {
   "cell_type": "code",
   "execution_count": null,
   "metadata": {},
   "outputs": [],
   "source": []
  }
 ],
 "metadata": {
  "kernelspec": {
   "display_name": "Python [conda env:scem]",
   "language": "python",
   "name": "conda-env-scem-py"
  },
  "language_info": {
   "codemirror_mode": {
    "name": "ipython",
    "version": 3
   },
   "file_extension": ".py",
   "mimetype": "text/x-python",
   "name": "python",
   "nbconvert_exporter": "python",
   "pygments_lexer": "ipython3",
   "version": "3.7.6"
  }
 },
 "nbformat": 4,
 "nbformat_minor": 2
}
