{
 "cells": [
  {
   "cell_type": "code",
   "execution_count": 1,
   "metadata": {},
   "outputs": [
    {
     "name": "stderr",
     "output_type": "stream",
     "text": [
      "/home/dagnyt/anaconda3/envs/fast2/lib/python3.7/site-packages/tqdm/autonotebook/__init__.py:14: TqdmExperimentalWarning: Using `tqdm.autonotebook.tqdm` in notebook mode. Use `tqdm.tqdm` instead to force console mode (e.g. in jupyter console)\n",
      "  \" (e.g. in jupyter console)\", TqdmExperimentalWarning)\n",
      "/home/dagnyt/EPFL/dislocations/delineation/layers/loss.py:5: UserWarning: matplotlib.pyplot as already been imported, this call will have no effect.\n",
      "  matplotlib.use('agg')\n",
      "/home/dagnyt/EPFL/dislocations/delineation/utils/settings.py:8: UserWarning: matplotlib.pyplot as already been imported, this call will have no effect.\n",
      "  matplotlib.use('agg')\n"
     ]
    },
    {
     "name": "stdout",
     "output_type": "stream",
     "text": [
      "Using cuda\n",
      "unet-efficient\n",
      "unet-efficient-effnet\n",
      "EfficientNet-b0\n",
      "=> loaded checkpoint '/home/dagnyt/EPFL/dislocations/models/models_2020_05/matching/dislocations_matching_disp_warp_var_joint_32/150_seg.tar' (epoch 150)\n",
      "scmnet\n",
      "=> loaded checkpoint '/home/dagnyt/EPFL/dislocations/models/models_2020_05/matching/dislocations_matching_disp_warp_var_joint_32/150_scmnet_light.tar' (epoch 150)\n"
     ]
    }
   ],
   "source": [
    "config_file = 'delineation/configs/dislocation_matching_disp_and_warp_and var_joint_home.yml'\n",
    "aug_config_file = 'delineation/configs/aug.yml'\n",
    "import torch\n",
    "from delineation.configs.defaults_segmentation import _C as cfg\n",
    "from delineation.datasets import make_data_loader\n",
    "from delineation.models import build_model_list\n",
    "from delineation.utils import settings, cost_volume_helpers\n",
    "from delineation.utils.settings import evaluate_results\n",
    "import cv2\n",
    "from tqdm import tqdm\n",
    "%matplotlib inline\n",
    "import matplotlib.pyplot as plt\n",
    "import torch.nn.functional as F\n",
    "\n",
    "import yaml\n",
    "\n",
    "cfg.merge_from_file(config_file)\n",
    "with open(aug_config_file, 'r') as ymlfile:\n",
    "    cfg_aug = yaml.load(aug_config_file)\n",
    "\n",
    "_device = settings.initialize_cuda_and_logging(cfg)  # '_device' is GLOBAL VAR\n",
    "\n",
    "train_loader, val_loader = make_data_loader(cfg, cfg_aug)\n",
    "seg_model, model = build_model_list(cfg, True)"
   ]
  },
  {
   "cell_type": "code",
   "execution_count": 3,
   "metadata": {},
   "outputs": [
    {
     "name": "stderr",
     "output_type": "stream",
     "text": [
      "\r",
      "  0%|          | 0/1 [00:00<?, ?it/s]"
     ]
    },
    {
     "name": "stdout",
     "output_type": "stream",
     "text": [
      "[[ 1.304203    1.345478    0.3525772  ... -0.71103096 -0.15319633\n",
      "  -0.39879608]\n",
      " [ 1.8426628   1.9898415   1.9350128  ... -0.52501297 -0.7460575\n",
      "   0.21668243]\n",
      " [ 1.8485794   1.592659    1.7716942  ... -1.1856346  -0.7368412\n",
      "  -0.6308937 ]\n",
      " ...\n",
      " [-1.2152977  -2.6910667  -2.4693794  ... -0.5077362  -0.9374504\n",
      "  -0.4260254 ]\n",
      " [-0.99671555 -2.3866768  -2.2472515  ... -0.81874466 -1.1671104\n",
      "  -1.7770615 ]\n",
      " [-0.1426487  -1.1984215  -2.6537933  ... -1.1863976  -0.6746235\n",
      "  -0.94906235]]\n",
      "[[1 1 1 ... 1 1 1]\n",
      " [1 1 1 ... 1 1 1]\n",
      " [1 1 1 ... 1 1 1]\n",
      " ...\n",
      " [1 1 1 ... 1 1 1]\n",
      " [1 1 1 ... 1 1 1]\n",
      " [1 1 1 ... 1 1 1]]\n",
      "[[ 1.304203    1.345478    0.3525772  ... -0.71103096 -0.15319633\n",
      "  -0.39879608]\n",
      " [ 1.8426628   1.9898415   1.9350128  ... -0.52501297 -0.7460575\n",
      "   0.21668243]\n",
      " [ 1.8485794   1.592659    1.7716942  ... -1.1856346  -0.7368412\n",
      "  -0.6308937 ]\n",
      " ...\n",
      " [-1.2152977  -2.6910667  -2.4693794  ... -0.5077362  -0.9374504\n",
      "  -0.4260254 ]\n",
      " [-0.99671555 -2.3866768  -2.2472515  ... -0.81874466 -1.1671104\n",
      "  -1.7770615 ]\n",
      " [-0.1426487  -1.1984215  -2.6537933  ... -1.1863976  -0.6746235\n",
      "  -0.94906235]]\n"
     ]
    },
    {
     "name": "stderr",
     "output_type": "stream",
     "text": [
      "100%|██████████| 1/1 [00:37<00:00, 37.46s/it]\n"
     ]
    }
   ],
   "source": [
    "seg_model.eval()\n",
    "model.eval()\n",
    "\n",
    "l = cv2.imread('/home/dagnyt/EPFL/dislocations/eval_data/2019-12-02_TiAl_box3n15_SIFT_PNG/Aligned_9_of_90004.png',0)\n",
    "r = cv2.imread('/home/dagnyt/EPFL/dislocations/eval_data/2019-12-02_TiAl_box3n15_SIFT_PNG/Aligned_9_of_90005.png',0)\n",
    "\n",
    "l_name = '2019-12-02_TiAl_box3n15_SIFT_PNG'\n",
    "l = cv2.resize(l, (512,512))\n",
    "r = cv2.resize(r, (512,512))\n",
    "\n",
    "l = torch.from_numpy(l).unsqueeze(0).unsqueeze(0)/255.0\n",
    "r = torch.from_numpy(r).unsqueeze(0).unsqueeze(0)/255.0\n",
    "\n",
    "with torch.no_grad():\n",
    "            device = torch.device('cpu')\n",
    "            seg_model = seg_model.to(device)\n",
    "\n",
    "    \n",
    "            indices = cost_volume_helpers.volume_indices(2 * cfg.TRAINING.MAXDISP, len(l),\n",
    "                                                     cfg.TRAINING.HEIGHT, cfg.TRAINING.WIDTH, _device)\n",
    "\n",
    "            l_segmap, l_seg = seg_model(l)\n",
    "            r_segmap, r_seg = seg_model(r)\n",
    "            \n",
    "            dl_scores = model(l_segmap.cuda(), r_segmap.cuda())\n",
    "            l_seg = l_seg.cpu().numpy()>0.1\n",
    "\n",
    "            dl_ = F.softmax(-dl_scores, 2)\n",
    "            dl = torch.sum(dl_.mul(indices), 2) - cfg.TRAINING.MAXDISP\n",
    "            \n",
    "            dl = dl.detach().permute(0, 2, 3, 1).cpu().numpy()\n",
    "\n",
    "            for i in tqdm(range(len(dl))):\n",
    "                vol = cost_volume_helpers.back_project_numpy(l_seg[i,0,:,:], dl[i,:,:,:], cfg.TRAINING.MAXDISP, mode='two-sided')\n",
    "\n",
    "                for idx, rotation_angle in enumerate(range(-20, 21, 1)):\n",
    "                    cost_volume_helpers.visualize_volume(l_name, vol[0, :, :, :],\n",
    "                                                         rotation_angle,\n",
    "                                                         cfg.LOGGING.LOG_DIR,\n",
    "                                                         mode='scatter',\n",
    "                                                         save_ext=str(idx)+'.png',\n",
    "                                                         plot=False)\n"
   ]
  },
  {
   "cell_type": "code",
   "execution_count": null,
   "metadata": {},
   "outputs": [],
   "source": []
  }
 ],
 "metadata": {
  "kernelspec": {
   "display_name": "Python [conda env:fast2]",
   "language": "python",
   "name": "conda-env-fast2-py"
  },
  "language_info": {
   "codemirror_mode": {
    "name": "ipython",
    "version": 3
   },
   "file_extension": ".py",
   "mimetype": "text/x-python",
   "name": "python",
   "nbconvert_exporter": "python",
   "pygments_lexer": "ipython3",
   "version": "3.7.4"
  }
 },
 "nbformat": 4,
 "nbformat_minor": 2
}
