{
 "cells": [
  {
   "cell_type": "code",
   "execution_count": 4,
   "metadata": {},
   "outputs": [],
   "source": [
    "from PIL import Image\n",
    "import imageio\n",
    "import numpy as np\n",
    "from PIL import GifImagePlugin\n",
    "import os \n",
    "\n",
    "def reconstruct_3d_dislocations(path):\n",
    "\n",
    "    reconstructed_images_disloc = []\n",
    "    \n",
    "    images = [x for x in os.listdir(path) if 'png' in x]\n",
    "    images = sorted(images, key=lambda x: float(x.split('_')[2].replace('.png','')))\n",
    "    for img in images:\n",
    "        reconstructed_images_disloc.append(np.array(Image.open(path+img)))\n",
    "        reconstructed_images_disloc.append(np.array(Image.open(path+img)))\n",
    "        reconstructed_images_disloc.append(np.array(Image.open(path+img)))\n",
    "\n",
    "    return reconstructed_images_disloc\n",
    "\n",
    "path = '/home/dagnyt/EPFL/dislocations/logdir_results/_results/in_situ_-10_10_ang_deg/'\n",
    "\n",
    "reconstructed_images_disloc = reconstruct_3d_dislocations(path)\n",
    "imageio.mimsave('/home/dagnyt/EPFL/dislocations/logdir_results/_results/in_situ/in_situ_-10_10_ang_deg.gif', reconstructed_images_disloc)\n"
   ]
  },
  {
   "cell_type": "code",
   "execution_count": null,
   "metadata": {
    "collapsed": true
   },
   "outputs": [],
   "source": []
  }
 ],
 "metadata": {
  "kernelspec": {
   "display_name": "fast",
   "language": "python",
   "name": "fast"
  },
  "language_info": {
   "codemirror_mode": {
    "name": "ipython",
    "version": 3
   },
   "file_extension": ".py",
   "mimetype": "text/x-python",
   "name": "python",
   "nbconvert_exporter": "python",
   "pygments_lexer": "ipython3",
   "version": "3.7.4"
  }
 },
 "nbformat": 4,
 "nbformat_minor": 2
}
